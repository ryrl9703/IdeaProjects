{
 "cells": [
  {
   "cell_type": "markdown",
   "id": "e3b2895a-70b7-43ce-b023-05060a019295",
   "metadata": {},
   "source": [
    "# Graph Neural Network  \n",
    "## 1. **GCN**  \n",
    "$$H^{(l+1)} = \\sigma(\\tilde{D}^{-\\frac{1}{2}}\\tilde{A}\\tilde{D}^{-\\frac{1}{2}}H^{(l)}W^{{(l)}})$$  \n",
    "$\\tilde{A} = A + I_N$, $\\tilde{A}$是自连接的邻接矩阵,$I_N$是单位矩阵，相加得到了添加**自连接**的邻接矩阵  \n",
    "$\\tilde{D_{ii}} = \\sum_j{\\tilde{A}_{ij}}$,表示度矩阵  \n",
    "$W^{(l)}$,表示可学习参数  \n",
    "\n",
    "经过上面的矩阵运算之后，**每一个节点都聚合了周围邻居以及自身的特征，并进行了归一化**  \n",
    "  \n",
    "$$Z = f(X,A) = softmax(\\tilde{A}ReLU(\\tilde{A}XW^{0})W^{(1)})$$\n",
    "![GCN](../figures/Screen_Shot_2020-05-23_at_4.06.05_PM.png \"Graph Convolutional Network\")"
   ]
  },
  {
   "cell_type": "code",
   "execution_count": null,
   "id": "bc68902e-22fd-47af-af83-f9751766834f",
   "metadata": {},
   "outputs": [],
   "source": []
  }
 ],
 "metadata": {
  "kernelspec": {
   "display_name": "Python 3 (ipykernel)",
   "language": "python",
   "name": "python3"
  },
  "language_info": {
   "codemirror_mode": {
    "name": "ipython",
    "version": 3
   },
   "file_extension": ".py",
   "mimetype": "text/x-python",
   "name": "python",
   "nbconvert_exporter": "python",
   "pygments_lexer": "ipython3",
   "version": "3.10.1"
  }
 },
 "nbformat": 4,
 "nbformat_minor": 5
}
