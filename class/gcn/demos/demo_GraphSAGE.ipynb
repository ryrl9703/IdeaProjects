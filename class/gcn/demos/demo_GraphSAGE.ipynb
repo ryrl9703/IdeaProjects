{
 "cells": [
  {
   "cell_type": "markdown",
   "id": "3b4b902f-8fdf-495f-87b4-0cb99d968b26",
   "metadata": {
    "tags": []
   },
   "source": [
    "# GraphSAGE(SAmple and aggreGatE)  \n",
    "1. 采样与聚合  \n",
    "归纳式graph embedding；  \n",
    "之前的graph embedding方法，所有节点都在图中，对于没有看到过的节点无法处理，因此也叫直推式方法；\n",
    "GraphSAGE可以对没见过的节点页生成embedding，同时可以聚合周围邻居的特征。  \n",
    "\n",
    "2. Minbatch:不需要全图信息，可以在大规模图上进行训练  \n"
   ]
  },
  {
   "cell_type": "code",
   "execution_count": null,
   "id": "a8b0ad70-788c-4804-b6bb-09338010d3ea",
   "metadata": {},
   "outputs": [],
   "source": []
  }
 ],
 "metadata": {
  "kernelspec": {
   "display_name": "Python 3 (ipykernel)",
   "language": "python",
   "name": "python3"
  },
  "language_info": {
   "codemirror_mode": {
    "name": "ipython",
    "version": 3
   },
   "file_extension": ".py",
   "mimetype": "text/x-python",
   "name": "python",
   "nbconvert_exporter": "python",
   "pygments_lexer": "ipython3",
   "version": "3.10.1"
  }
 },
 "nbformat": 4,
 "nbformat_minor": 5
}
