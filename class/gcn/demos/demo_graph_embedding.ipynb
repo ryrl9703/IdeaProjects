{
 "cells": [
  {
   "cell_type": "markdown",
   "id": "950d4e76-beed-4802-a821-257cb26e467d",
   "metadata": {
    "tags": []
   },
   "source": [
    "# Graph Emdedding  \n",
    "\n",
    "1. 作用：  \n",
    "    1)保留节点长度信息  \n",
    "    2)保留节点在图上一些信息  \n",
    "\n",
    "2. DeepWalk：采用**随机游走**，形成序列，通过skip-gram方式形成节点embedding  \n",
    "3. LINE: Large-scale Information Network Embedding  \n",
    "    1)大规模的图上表示节点之间的结构信息  \n",
    "    2)一阶：局部的结构信息  \n",
    "    3)二阶：节点的邻居。共享邻居的节点可能是相似的\n",
    "    4）**捕获一阶和二阶相似性，分别求解，再将一阶和二阶拼接在一起，作为节点的embedding**  \n",
    "\n",
    "4. node2vec:**基于临近关系**；采用不同的策略游走，通过skip-gram方式形成节点embedding  \n",
    "    1)homophily：同质性，节点与其周围节点的embedding应该是很相似的  \n",
    "    2)structural equivalence：结构等价性，连接每一个簇的节点的embedding应该是相似的  \n",
    "    3)BFS：广度优先搜索，优先选择与自身相连的节点  \n",
    "    4)DFS：深度优先搜索，沿着远离自身的方向不断向深处搜索  \n",
    "\n",
    "5. Struc2vec：有些节点不临近，但是仍然具有相似性；适用于节点分类，其结构标识比邻居标识更重要  \n",
    "    1)定义距离信息：    \n",
    "    $$f_k(u,v) = f_k-1(u,v) + g(s(R_k(u)), s(R_k(v))), k\\ge0\\;and\\;|R_k(u)|,|R_k(v)|\\;>\\;0$$  \n",
    "    $f_k(u,v)$：表示早khop邻居的$u,v$相似性；  \n",
    "    $R_K(u)$：表示节点$u$在khop顶点的集合；  \n",
    "    $S(s)$：表示集合$S$度的有序序列；  \n",
    "    $g(D_1,D_2)$：表示$D_1,D_2$之间的距离。  \n",
    "    2)动态时间规整：  \n",
    "    3)构建多重带权重图  \n",
    "    4)顶点采样序列  \n",
    "    5)**对图的结构信息进行捕获，再其结构重要性大于邻居重要性的时候具有较好的结果**\n",
    "\n",
    "6. SDNE：Structural Deep Network Embedding  \n",
    "    前的DEEPwalk,LINE,node2vec,struc2vec都使用了浅层的结构，浅层模型往往不能捕获高度非线性的网络结构；而SDNE使用**多个非线性层**来捕获(一阶，二阶)node的Embedding"
   ]
  }
 ],
 "metadata": {
  "kernelspec": {
   "display_name": "Python 3 (ipykernel)",
   "language": "python",
   "name": "python3"
  },
  "language_info": {
   "codemirror_mode": {
    "name": "ipython",
    "version": 3
   },
   "file_extension": ".py",
   "mimetype": "text/x-python",
   "name": "python",
   "nbconvert_exporter": "python",
   "pygments_lexer": "ipython3",
   "version": "3.10.1"
  }
 },
 "nbformat": 4,
 "nbformat_minor": 5
}
