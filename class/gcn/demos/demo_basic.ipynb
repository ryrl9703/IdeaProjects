{
 "cells": [
  {
   "cell_type": "markdown",
   "id": "45f856ab-e12a-4945-8aaf-2d08d80cba85",
   "metadata": {},
   "source": [
    "# Graph 基本介绍"
   ]
  },
  {
   "cell_type": "markdown",
   "id": "d4e0d35f-e25c-4d5f-a5d0-e31a78952eb2",
   "metadata": {
    "tags": []
   },
   "source": [
    "## 1. 什么是图"
   ]
  },
  {
   "cell_type": "markdown",
   "id": "c5e7e212-e3ec-4864-9559-e4707a217fad",
   "metadata": {},
   "source": [
    "**无向图**：节点之间的边没有指向  \n",
    "**有向图**：节点之间的边具有指向  \n",
    "**子图**  ：大图中的某一部分\n",
    "\n",
    "1. 节点 <-> 点\n",
    "2. 边\n",
    "3. 度：节点上边的个数；  \n",
    "出度：有向图中以该节点为起点的边的个数；  \n",
    "入度：有向图中以该节点为终点的边的个数。\n",
    "\n",
    "4. 连通图：无孤立节点  \n",
    "无向图：任意两个节点可以通过一个或多个边进行连接；  \n",
    "有向图：\n",
    "\n",
    "5. 连通分量：无向图中的一个极大连通子图  \n",
    "无向连通图的连通分量有且仅有一个，即其自身；  \n",
    "无向非连通的有多个连通分量；\n",
    "\n",
    "6. 有向图的连通性  \n",
    "`1)` **强连通图**：对于有向图中的任意两个节点都可以相互到达  \n",
    "`2)` **弱连通图**：对于有向图，若有至少一对节点不满足单向连通，但当成无向图看是连通的图  \n",
    "\n",
    "7. 最短路径：两个节点之间，通过的最少的边数  \n",
    "8. 图直径：图中两两节点之间最短路径的对大值  \n",
    "9. 度中心性：$$度中心性= \\frac{N_{degree}}{n-1}$$  \n",
    "$n$，图中节点的数量  \n",
    "$N_{degree}$，该节点的度。([LaTex](https://math.meta.stackexchange.com/questions/5020/mathjax-basic-tutorial-and-quick-reference))  \n",
    "\n",
    "10. 特征向量中心性：对一个临界矩阵求它的特征值和特征向量，最大的特征值所对应的特征向量\n",
    "$$A * x = \\lambda * x$$\n",
    "$A$，图的邻接矩阵；  \n",
    "$x$，特征向量；  \n",
    "$\\lambda$，特征值  \n",
    "11. 中介中心性(Betweenness Centrality) \n",
    "$$Betweenness = \\frac{经过该节点的最短路径}{其余两两节点的最短路径}???$$\n",
    "12. 连接中心性(Closeness):$$Closeness = \\frac{n - 1}{节点到其它节点最短路径之和}$$\n",
    "$n$，途中节点数目  \n",
    "13. PageRank  \n",
    "14. HITS"
   ]
  },
  {
   "cell_type": "code",
   "execution_count": 1,
   "id": "ca5a4869-565e-49c8-a7db-17689e35cc67",
   "metadata": {},
   "outputs": [],
   "source": [
    "import numpy as np\n",
    "import pandas as pd\n",
    "import networkx as nx"
   ]
  },
  {
   "cell_type": "code",
   "execution_count": 3,
   "id": "d296101b-1718-4e19-9a59-b1f306a452ee",
   "metadata": {},
   "outputs": [],
   "source": [
    "# create a graph\n",
    "edges = pd.DataFrame()\n",
    "edges['sources'] = [1,1,1,2,2,3,3,4,4,5,5,5]\n",
    "edges['targets'] = [2,4,5,3,1,2,5,1,5,1,3,4]\n",
    "edges['weights'] = [1,1,1,1,1,1,1,1,1,1,1,1]\n",
    "\n",
    "graph = nx.from_pandas_edgelist(edges, source='sources', target='targets', edge_attr='weights')"
   ]
  },
  {
   "cell_type": "code",
   "execution_count": 4,
   "id": "e8d923e3-2398-46da-8079-232ef132087a",
   "metadata": {},
   "outputs": [
    {
     "data": {
      "text/plain": [
       "<networkx.classes.graph.Graph at 0x7fdd6a5fe230>"
      ]
     },
     "execution_count": 4,
     "metadata": {},
     "output_type": "execute_result"
    }
   ],
   "source": [
    "graph"
   ]
  },
  {
   "cell_type": "code",
   "execution_count": 5,
   "id": "a59d6cc3-0c88-4569-8e23-52a369c05a2e",
   "metadata": {},
   "outputs": [
    {
     "name": "stdout",
     "output_type": "stream",
     "text": [
      "Graph with 5 nodes and 6 edges\n"
     ]
    }
   ],
   "source": [
    "print(graph)"
   ]
  },
  {
   "cell_type": "code",
   "execution_count": 6,
   "id": "4fddcfa1-6bcb-42f5-b854-bab658007021",
   "metadata": {},
   "outputs": [
    {
     "name": "stdout",
     "output_type": "stream",
     "text": [
      "[(1, 3), (2, 2), (4, 2), (5, 3), (3, 2)]\n"
     ]
    }
   ],
   "source": [
    "# degree\n",
    "print(nx.degree(graph))"
   ]
  },
  {
   "cell_type": "code",
   "execution_count": 7,
   "id": "a5b9066e-09fa-41c8-8232-8f8594afb659",
   "metadata": {},
   "outputs": [
    {
     "name": "stdout",
     "output_type": "stream",
     "text": [
      "[{1, 2, 3, 4, 5}]\n"
     ]
    }
   ],
   "source": [
    "# connected component\n",
    "print(list(nx.connected_components(graph))) "
   ]
  },
  {
   "cell_type": "code",
   "execution_count": 8,
   "id": "052853a0-806e-42d4-866f-17b722ed4de9",
   "metadata": {},
   "outputs": [
    {
     "name": "stdout",
     "output_type": "stream",
     "text": [
      "2\n"
     ]
    }
   ],
   "source": [
    "# diameter \n",
    "print(nx.diameter(graph))"
   ]
  },
  {
   "cell_type": "code",
   "execution_count": 9,
   "id": "672b2b02-4b21-4681-80fa-d79591b13b94",
   "metadata": {},
   "outputs": [
    {
     "data": {
      "text/plain": [
       "{1: 0.75, 2: 0.5, 4: 0.5, 5: 0.75, 3: 0.5}"
      ]
     },
     "execution_count": 9,
     "metadata": {},
     "output_type": "execute_result"
    }
   ],
   "source": [
    "# degree centrality\n",
    "nx.degree_centrality(graph)"
   ]
  },
  {
   "cell_type": "code",
   "execution_count": 10,
   "id": "e220e95f-033a-4e0d-9d6a-ed8f369b18a9",
   "metadata": {},
   "outputs": [
    {
     "data": {
      "text/plain": [
       "{1: 0.5298988890761731,\n",
       " 2: 0.35775191431708964,\n",
       " 4: 0.4271316779596084,\n",
       " 5: 0.5298988890761731,\n",
       " 3: 0.35775191431708964}"
      ]
     },
     "execution_count": 10,
     "metadata": {},
     "output_type": "execute_result"
    }
   ],
   "source": [
    "# eigenvector centrality\n",
    "nx.eigenvector_centrality(graph)"
   ]
  },
  {
   "cell_type": "code",
   "execution_count": 11,
   "id": "59d960ac-324e-4c95-942c-9c0160484e8b",
   "metadata": {},
   "outputs": [
    {
     "data": {
      "text/plain": [
       "{1: 0.25, 2: 0.08333333333333333, 4: 0.0, 5: 0.25, 3: 0.08333333333333333}"
      ]
     },
     "execution_count": 11,
     "metadata": {},
     "output_type": "execute_result"
    }
   ],
   "source": [
    "# betweenness\n",
    "nx.betweenness_centrality(graph)"
   ]
  },
  {
   "cell_type": "code",
   "execution_count": 12,
   "id": "91a8c452-3005-4d46-bf59-3f5868fd42ea",
   "metadata": {},
   "outputs": [
    {
     "data": {
      "text/plain": [
       "{1: 0.8,\n",
       " 2: 0.6666666666666666,\n",
       " 4: 0.6666666666666666,\n",
       " 5: 0.8,\n",
       " 3: 0.6666666666666666}"
      ]
     },
     "execution_count": 12,
     "metadata": {},
     "output_type": "execute_result"
    }
   ],
   "source": [
    "# closeness centrality\n",
    "nx.closeness_centrality(graph)"
   ]
  },
  {
   "cell_type": "code",
   "execution_count": 13,
   "id": "e8517654-e0ad-4671-b970-60dbd88c97d4",
   "metadata": {},
   "outputs": [
    {
     "data": {
      "text/plain": [
       "{1: 0.24369622576677993,\n",
       " 2: 0.1722562971205864,\n",
       " 4: 0.16809495422526696,\n",
       " 5: 0.24369622576677993,\n",
       " 3: 0.1722562971205864}"
      ]
     },
     "execution_count": 13,
     "metadata": {},
     "output_type": "execute_result"
    }
   ],
   "source": [
    "# PageRank\n",
    "nx.pagerank(graph)"
   ]
  },
  {
   "cell_type": "code",
   "execution_count": 14,
   "id": "b9992bbb-8946-4f23-a255-71654682fec7",
   "metadata": {},
   "outputs": [
    {
     "name": "stderr",
     "output_type": "stream",
     "text": [
      "/public/workspace/ryrl/software/anaconda3/envs/python/lib/python3.10/site-packages/networkx/algorithms/link_analysis/hits_alg.py:78: FutureWarning: adjacency_matrix will return a scipy.sparse array instead of a matrix in Networkx 3.0.\n",
      "  A = nx.adjacency_matrix(G, nodelist=list(G), dtype=float)\n"
     ]
    },
    {
     "data": {
      "text/plain": [
       "({1: 0.24059715204600776,\n",
       "  2: 0.162434564716677,\n",
       "  4: 0.19393656647463048,\n",
       "  5: 0.24059715204600784,\n",
       "  3: 0.16243456471667692},\n",
       " {1: 0.24059715204600787,\n",
       "  2: 0.16243456471667692,\n",
       "  4: 0.1939365664746304,\n",
       "  5: 0.2405971520460078,\n",
       "  3: 0.162434564716677})"
      ]
     },
     "execution_count": 14,
     "metadata": {},
     "output_type": "execute_result"
    }
   ],
   "source": [
    "# HITS\n",
    "nx.hits(graph)"
   ]
  },
  {
   "cell_type": "code",
   "execution_count": null,
   "id": "1cef96ab-4c78-49b1-ba76-528955bdf03d",
   "metadata": {},
   "outputs": [],
   "source": []
  }
 ],
 "metadata": {
  "kernelspec": {
   "display_name": "Python 3 (ipykernel)",
   "language": "python",
   "name": "python3"
  },
  "language_info": {
   "codemirror_mode": {
    "name": "ipython",
    "version": 3
   },
   "file_extension": ".py",
   "mimetype": "text/x-python",
   "name": "python",
   "nbconvert_exporter": "python",
   "pygments_lexer": "ipython3",
   "version": "3.10.1"
  }
 },
 "nbformat": 4,
 "nbformat_minor": 5
}
